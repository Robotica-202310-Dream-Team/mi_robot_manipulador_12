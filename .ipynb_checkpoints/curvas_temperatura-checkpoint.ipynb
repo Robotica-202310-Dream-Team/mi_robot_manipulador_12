{
 "cells": [
  {
   "cell_type": "code",
   "execution_count": null,
   "metadata": {},
   "outputs": [],
   "source": [
    "import numpy as np\n",
    "import matplotlib as plt\n",
    "enfriamiento_nuestro = [71.19,68.3,67.5,65.4,63.9,62.3,60.9,59.6,57.2,51.9,50.1,45.1,44,38.6,35.4,34.9,32.4,30.5,30.1,28,27.1,27]\n",
    "enfiramiento_precision = [71.5,69.9,68.8,66.8,65.4,63.8,62.3,60.7,60,51.7,51.1,45.3,44.9,39.4,35.8,35.7,32.9,31.3,31.2,28.9,28,28]\n",
    "plt.figure(1)\n",
    "plt.plot( enfriamiento_nuestro, enfiramiento_precision, label='Curva temperatura')\n",
    "plt.title(\"Curva de enfriamiento\")\n",
    "plt.xlabel(\"Temperatura medida [°Centigrados]\")\n",
    "plt.ylabel(\"Temperatura real [°Centigrados]\")\n",
    "plt.legend()\n",
    "plt.show()"
   ]
  },
  {
   "cell_type": "code",
   "execution_count": null,
   "metadata": {},
   "outputs": [],
   "source": []
  }
 ],
 "metadata": {
  "kernelspec": {
   "display_name": "Python 3 (ipykernel)",
   "language": "python",
   "name": "python3"
  },
  "language_info": {
   "codemirror_mode": {
    "name": "ipython",
    "version": 3
   },
   "file_extension": ".py",
   "mimetype": "text/x-python",
   "name": "python",
   "nbconvert_exporter": "python",
   "pygments_lexer": "ipython3",
   "version": "3.10.6"
  }
 },
 "nbformat": 4,
 "nbformat_minor": 2
}
